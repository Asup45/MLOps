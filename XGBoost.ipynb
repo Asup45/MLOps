{
 "cells": [
  {
   "cell_type": "code",
   "execution_count": 1,
   "metadata": {},
   "outputs": [],
   "source": [
    "# Import des librairies\n",
    "import mlflow\n",
    "import mlflow.pyfunc\n",
    "from mlflow.models import infer_signature\n",
    "import pandas as pd\n",
    "\n",
    "from sklearn.model_selection import train_test_split, GridSearchCV\n",
    "from xgboost import XGBRegressor\n",
    "from sklearn.metrics import r2_score, mean_squared_error\n",
    "from sklearn.compose import ColumnTransformer\n",
    "from sklearn.pipeline import Pipeline\n",
    "from sklearn.preprocessing import OneHotEncoder, StandardScaler"
   ]
  },
  {
   "cell_type": "markdown",
   "metadata": {},
   "source": [
    "### Prétraitement des données"
   ]
  },
  {
   "cell_type": "code",
   "execution_count": 3,
   "metadata": {},
   "outputs": [
    {
     "name": "stdout",
     "output_type": "stream",
     "text": [
      "<class 'pandas.core.frame.DataFrame'>\n",
      "Index: 3621 entries, 0 to 3753\n",
      "Data columns (total 9 columns):\n",
      " #   Column              Non-Null Count  Dtype \n",
      "---  ------              --------------  ----- \n",
      " 0   work_year           3621 non-null   int64 \n",
      " 1   experience_level    3621 non-null   object\n",
      " 2   employment_type     3621 non-null   object\n",
      " 3   job_title           3621 non-null   object\n",
      " 4   employee_residence  3621 non-null   object\n",
      " 5   remote_ratio        3621 non-null   int64 \n",
      " 6   company_location    3621 non-null   object\n",
      " 7   company_size        3621 non-null   object\n",
      " 8   salary_range        3621 non-null   int64 \n",
      "dtypes: int64(3), object(6)\n",
      "memory usage: 282.9+ KB\n"
     ]
    }
   ],
   "source": [
    "# On charge les données\n",
    "df = pd.read_csv(\"ds_salaries.csv\")\n",
    "\n",
    "# Filtrer les devises à USD, EUR et GBP\n",
    "df = df[df['salary_currency'].isin(['USD', 'EUR', 'GBP'])]\n",
    "\n",
    "# Définir le taux de conversion\n",
    "conversion_rates = {\n",
    "    'USD': 0.94,\n",
    "    'GBP': 1.14,\n",
    "    'EUR': 1.0,\n",
    "    'INR': 0.011,\n",
    "    'CAD': 0.70,\n",
    "    'AUD': 0.64,\n",
    "    'SGD': 0.71,\n",
    "    'BRL': 0.18,\n",
    "    'PLN': 0.22,\n",
    "    'CHF': 1.01,\n",
    "    'HUF': 0.0027,\n",
    "    'DKK': 0.13,\n",
    "    'JPY': 0.0073,\n",
    "    'TRY': 0.051,\n",
    "    'THB': 0.027,\n",
    "    'ILS': 0.26,\n",
    "    'HKD': 0.12,\n",
    "    'CZK': 0.041,\n",
    "    'MXN': 0.052,\n",
    "    'CLP': 0.0011\n",
    "}\n",
    "\n",
    "# Convertir le salaire à EUR\n",
    "df['salary_eur'] = df.apply(lambda row: row['salary'] * conversion_rates[row['salary_currency']], axis=1)\n",
    "\n",
    "# Fonction pour obtenir la plage salariale\n",
    "def get_salary_range(salary):\n",
    "    return round(int(salary / 10000), 1)\n",
    "\n",
    "# Appliquer la fonction à la colonne 'salary_eur'\n",
    "df['salary_range'] = df['salary_eur'].apply(get_salary_range)\n",
    "\n",
    "# Supprimer les colonnes inutiles\n",
    "df = df.drop(columns=['salary', 'salary_currency', 'salary_in_usd', 'salary_eur'])\n",
    "\n",
    "# Afficher les informations sur le DataFrame\n",
    "df.info()"
   ]
  },
  {
   "cell_type": "code",
   "execution_count": 4,
   "metadata": {},
   "outputs": [],
   "source": [
    "# Définition des variables catégorielles et numérique\n",
    "numerical_features = [\"work_year\", \"remote_ratio\"]\n",
    "categorial_features = ['experience_level', 'employment_type', 'job_title', \n",
    "                       'employee_residence', 'company_location', 'company_size']\n",
    "\n",
    "# Création du préprocesseur\n",
    "preprocessor = ColumnTransformer(\n",
    "    transformers=[\n",
    "        ('num', StandardScaler(), numerical_features),\n",
    "        ('cat', OneHotEncoder(drop='first', handle_unknown='ignore'), categorial_features)\n",
    "    ])\n",
    "\n",
    "# Création du pipeline\n",
    "pipeline = Pipeline(steps=[('preprocessor', preprocessor),\n",
    "                           ('regressor', XGBRegressor())])"
   ]
  },
  {
   "cell_type": "code",
   "execution_count": 6,
   "metadata": {},
   "outputs": [],
   "source": [
    "# On définie les données explicative et la target\n",
    "X = df.drop('salary_range', axis=1)\n",
    "y = df['salary_range']"
   ]
  },
  {
   "cell_type": "code",
   "execution_count": 7,
   "metadata": {},
   "outputs": [],
   "source": [
    "# La grille de paramètres que notre modèle utiliseras\n",
    "params = {\n",
    "    \"regressor__n_estimators\": [200, 300, 500],\n",
    "    \"regressor__max_depth\": [6, 8, 10],\n",
    "    \"regressor__learning_rate\": [0.01, 0.05, 0.1],\n",
    "    \"regressor__random_state\": [8888]\n",
    "}\n",
    "\n",
    "grid_search = GridSearchCV(pipeline, param_grid=params, cv=5, n_jobs=-1, scoring='r2', verbose=0)\n",
    "\n",
    "# On divise les données en jeu d'entrainement et de validation\n",
    "X_train, X_test, y_train, y_test = train_test_split(X, y, test_size=0.2, random_state=42)\n",
    "\n",
    "# On entraine le modèle\n",
    "grid_search.fit(X_train, y_train)\n",
    "\n",
    "# Meilleur modèle\n",
    "best_model = grid_search.best_estimator_"
   ]
  },
  {
   "cell_type": "code",
   "execution_count": 9,
   "metadata": {},
   "outputs": [
    {
     "name": "stdout",
     "output_type": "stream",
     "text": [
      "0.34489429518775816\n",
      "21.52558757080208\n"
     ]
    },
    {
     "name": "stderr",
     "output_type": "stream",
     "text": [
      "c:\\Users\\GRETA\\anaconda3\\envs\\mlops\\Lib\\site-packages\\sklearn\\preprocessing\\_encoders.py:241: UserWarning: Found unknown categories in columns [2, 3, 4] during transform. These unknown categories will be encoded as all zeros\n",
      "  warnings.warn(\n"
     ]
    }
   ],
   "source": [
    "# On fait les prédictions sur l'ensemble de test\n",
    "y_pred = best_model.predict(X_test)\n",
    "\n",
    "# Métriques d'évaluation pour notre modèle\n",
    "r2 = r2_score(y_test, y_pred)\n",
    "MSE = mean_squared_error(y_test, y_pred)\n",
    "\n",
    "print(r2)\n",
    "print(MSE)"
   ]
  },
  {
   "cell_type": "code",
   "execution_count": null,
   "metadata": {},
   "outputs": [],
   "source": [
    "# Utilisation de MLFlow\n",
    "mlflow.set_tracking_uri(\"http://localhost:5000\")\n",
    "\n",
    "mlflow.set_experiment(\"Salaries Prediction\")\n",
    "\n",
    "with mlflow.start_run():\n",
    "\n",
    "    mlflow.log_params(params)\n",
    "\n",
    "    mlflow.log_metric(\"r2\", r2)\n",
    "    mlflow.log_metric(\"MSE\", MSE)\n",
    "\n",
    "    mlflow.set_tag(\"Training Info\", \"XGBoost Regressor model for ds_salaries data\")\n",
    "\n",
    "    signature = infer_signature(X_train, best_model.predict(X_train))\n",
    "\n",
    "    model_info = mlflow.sklearn.log_model(\n",
    "    sk_model=best_model,\n",
    "    artifact_path=\"XGBRegressor_model\",\n",
    "    signature=signature,\n",
    "    input_example=X_train,\n",
    "    registered_model_name=\"tracking-XGBoost\",\n",
    ")\n",
    "\n",
    "loaded_model = mlflow.pyfunc.load_model(model_info.model_uri)\n",
    "\n",
    "predictions = loaded_model.predict(X_test)\n",
    "\n",
    "ohe_categories = best_model.named_steps['preprocessor'].named_transformers_['cat'].get_feature_names_out(input_features=categorial_features)\n",
    "feature_names = list(ohe_categories) + numerical_features\n",
    "\n",
    "result = pd.DataFrame(X_test, columns=feature_names)\n",
    "result[\"actual class\"] = y_test\n",
    "result[\"predicted class\"] = predictions\n",
    "\n",
    "print(result)"
   ]
  }
 ],
 "metadata": {
  "kernelspec": {
   "display_name": "mlops",
   "language": "python",
   "name": "python3"
  },
  "language_info": {
   "codemirror_mode": {
    "name": "ipython",
    "version": 3
   },
   "file_extension": ".py",
   "mimetype": "text/x-python",
   "name": "python",
   "nbconvert_exporter": "python",
   "pygments_lexer": "ipython3",
   "version": "3.11.7"
  }
 },
 "nbformat": 4,
 "nbformat_minor": 2
}
