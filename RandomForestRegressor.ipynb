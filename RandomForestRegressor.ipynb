{
 "cells": [
  {
   "cell_type": "code",
   "execution_count": null,
   "metadata": {},
   "outputs": [],
   "source": [
    "# Import des librairies\n",
    "import mlflow\n",
    "import mlflow.pyfunc\n",
    "from mlflow.models import infer_signature\n",
    "import pandas as pd\n",
    "\n",
    "from sklearn.model_selection import train_test_split, GridSearchCV\n",
    "from sklearn.ensemble import RandomForestRegressor\n",
    "from sklearn.metrics import r2_score, mean_squared_error\n",
    "from sklearn.compose import ColumnTransformer\n",
    "from sklearn.pipeline import Pipeline\n",
    "from sklearn.preprocessing import OneHotEncoder, StandardScaler\n"
   ]
  },
  {
   "cell_type": "code",
   "execution_count": null,
   "metadata": {},
   "outputs": [],
   "source": [
    "# On charge les données\n",
    "df = pd.read_csv(\"ds_salaries.csv\")\n",
    "\n",
    "# Prétraitment des données\n",
    "# Définition des variables catégorielles et numérique\n",
    "numerical_features = [\"work_year\", \"salary\", \"remote_ratio\"]\n",
    "categorial_features = [\"experience_level\", \"employment_type\", \"job_title\", \"salary_currency\", \n",
    "                       \"employee_residence\", \"company_location\", \"company_size\"]\n",
    "\n",
    "# Création du préprocesseur\n",
    "preprocessor = ColumnTransformer(\n",
    "    transformers=[\n",
    "        ('num', StandardScaler(), numerical_features),\n",
    "        ('cat', OneHotEncoder(drop='first', handle_unknown='ignore'), categorial_features)\n",
    "    ])\n",
    "\n",
    "# Création du pipeline\n",
    "pipeline = Pipeline(steps=[('preprocessor', preprocessor),\n",
    "                           ('regressor', RandomForestRegressor())])\n",
    "\n"
   ]
  },
  {
   "cell_type": "code",
   "execution_count": null,
   "metadata": {},
   "outputs": [],
   "source": [
    "# On définie les données explicative et la target\n",
    "X = df.drop('salary_in_usd', axis=1)\n",
    "y = df['salary_in_usd']"
   ]
  },
  {
   "cell_type": "code",
   "execution_count": null,
   "metadata": {},
   "outputs": [],
   "source": [
    "# La grille de paramètres que notre modèle utiliseras\n",
    "params = {\n",
    "    \"regressor__n_estimators\": [100, 200, 300],\n",
    "    \"regressor__max_depth\": [20, 30, 40],\n",
    "    \"regressor__random_state\": [8888],\n",
    "    \"regressor__max_features\": [\"sqrt\"],\n",
    "    \"regressor__min_samples_split\": [2, 5, 10],\n",
    "    \"regressor__min_samples_leaf\": [1, 2, 4], \n",
    "}\n",
    "\n",
    "grid_search = GridSearchCV(pipeline, param_grid=params, cv=5, scoring='neg_mean_squared_error', verbose=0)\n",
    "\n",
    "# On divise les données en jeu d'entrainement et de validation\n",
    "X_train, X_test, y_train, y_test = train_test_split(X, y, test_size=0.2, random_state=42)\n",
    "\n",
    "# On entraine le modèle\n",
    "grid_search.fit(X_train, y_train)\n",
    "\n",
    "# Meilleur modèle\n",
    "best_model = grid_search.best_estimator_"
   ]
  },
  {
   "cell_type": "code",
   "execution_count": null,
   "metadata": {},
   "outputs": [],
   "source": [
    "# On fait les prédictions sur l'ensemble de test\n",
    "y_pred = best_model.predict(X_test)\n",
    "\n",
    "# Métriques d'évaluation pour notre modèle\n",
    "r2 = r2_score(y_test, y_pred)\n",
    "MSE = mean_squared_error(y_test, y_pred)\n",
    "\n",
    "print(r2)\n",
    "print(MSE)"
   ]
  },
  {
   "cell_type": "code",
   "execution_count": null,
   "metadata": {},
   "outputs": [],
   "source": [
    "# Utilisation de MLFlow\n",
    "mlflow.set_tracking_uri(\"http://localhost:5000\")\n",
    "\n",
    "mlflow.set_experiment(\"Salaries Prediction\")\n",
    "\n",
    "with mlflow.start_run():\n",
    "\n",
    "    mlflow.log_params(params)\n",
    "\n",
    "    mlflow.log_metric(\"r2\", r2)\n",
    "    mlflow.log_metric(\"MSE\", MSE)\n",
    "\n",
    "    mlflow.set_tag(\"Training Info\", \"Random Forest Regressor model for ds_salaries data\")\n",
    "\n",
    "    signature = infer_signature(X_train, best_model.predict(X_train))\n",
    "\n",
    "    model_info = mlflow.sklearn.log_model(\n",
    "    sk_model=best_model,\n",
    "    artifact_path=\"RandomForestRegressor_model\",\n",
    "    signature=signature,\n",
    "    input_example=X_train,\n",
    "    registered_model_name=\"tracking-RFR\",\n",
    ")"
   ]
  },
  {
   "cell_type": "code",
   "execution_count": null,
   "metadata": {},
   "outputs": [],
   "source": [
    "loaded_model = mlflow.pyfunc.load_model(model_info.model_uri)\n",
    "\n",
    "predictions = loaded_model.predict(X_test)\n",
    "\n",
    "ohe_categories = best_model.named_steps['preprocessor'].named_transformers_['cat'].get_feature_names_out(input_features=categorial_features)\n",
    "feature_names = list(ohe_categories) + numerical_features\n",
    "\n",
    "result = pd.DataFrame(X_test, columns=feature_names)\n",
    "result[\"actual class\"] = y_test\n",
    "result[\"predicted class\"] = predictions\n",
    "\n",
    "print(result)"
   ]
  }
 ],
 "metadata": {
  "kernelspec": {
   "display_name": "mlops",
   "language": "python",
   "name": "python3"
  },
  "language_info": {
   "codemirror_mode": {
    "name": "ipython",
    "version": 3
   },
   "file_extension": ".py",
   "mimetype": "text/x-python",
   "name": "python",
   "nbconvert_exporter": "python",
   "pygments_lexer": "ipython3",
   "version": "3.11.7"
  }
 },
 "nbformat": 4,
 "nbformat_minor": 2
}
